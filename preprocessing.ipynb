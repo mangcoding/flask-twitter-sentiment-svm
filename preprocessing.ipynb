{
 "cells": [
  {
   "cell_type": "code",
   "execution_count": 1,
   "metadata": {},
   "outputs": [],
   "source": [
    "import pandas as pd\n",
    "import re\n",
    "from Sastrawi.Stemmer.StemmerFactory import StemmerFactory\n",
    "factory = StemmerFactory()\n",
    "stemmer = factory.create_stemmer()"
   ]
  },
  {
   "cell_type": "code",
   "execution_count": 2,
   "metadata": {},
   "outputs": [],
   "source": [
    "sw = [line.rstrip('\\n') for line in open('raw/stopword')]\n",
    "norm = pd.read_csv('raw/key_norm.csv')"
   ]
  },
  {
   "cell_type": "code",
   "execution_count": 3,
   "metadata": {},
   "outputs": [],
   "source": [
    "pat = [\n",
    "    r'http\\S+',\n",
    "    r'@\\S+',\n",
    "    r'#\\S+',\n",
    "    r'\\\\x[a-zA-Z][0-9]',\n",
    "    r'\\\\x[a-zA-Z][a-zA-Z]',\n",
    "    r'\\\\x[0-9][a-zA-Z]',\n",
    "    r'\\\\x[0-9][0-9]',\n",
    "    r\"b\\'\",\n",
    "    r'b\\\"',\n",
    "    r'\\\\n',\n",
    "] \n",
    "combined_pat = r'|'.join(pat)"
   ]
  },
  {
   "cell_type": "code",
   "execution_count": 28,
   "metadata": {},
   "outputs": [],
   "source": [
    "raw = pd.read_csv(\"raw/all.csv\")"
   ]
  },
  {
   "cell_type": "code",
   "execution_count": 5,
   "metadata": {},
   "outputs": [],
   "source": [
    "raw.dropna(inplace=True)"
   ]
  },
  {
   "cell_type": "code",
   "execution_count": 34,
   "metadata": {},
   "outputs": [],
   "source": [
    "def CleaningTweet(text):\n",
    "    sent = []\n",
    "    text = re.sub(combined_pat, \" \", text)\n",
    "    words = text.split(\" \")\n",
    "    for w in words:\n",
    "        #for w in word:\n",
    "        c = \"\"\n",
    "        w = w.lower()\n",
    "        text = re.sub(\"[^a-zA-Z]\",\"\", w)\n",
    "        if norm[\"singkat\"].isin([text]).any():\n",
    "            i = norm[norm[\"singkat\"]==text].index.values.astype(int)[0]\n",
    "            text = norm[\"hasil\"][i]\n",
    "            text = stemmer.stem(text)\n",
    "        c = text\n",
    "        if c != \"\":\n",
    "            sent.append(c)\n",
    "    if len(sent) != 0:\n",
    "        return \" \".join(sent)"
   ]
  },
  {
   "cell_type": "code",
   "execution_count": 7,
   "metadata": {},
   "outputs": [],
   "source": [
    "raw['TWEET'] = raw['TWEET'].apply(CleaningTweet)"
   ]
  },
  {
   "cell_type": "code",
   "execution_count": 216,
   "metadata": {},
   "outputs": [],
   "source": [
    "raw.to_csv ('dataset/dataset_clean_labelled.csv', index=False)"
   ]
  },
  {
   "cell_type": "code",
   "execution_count": 163,
   "metadata": {},
   "outputs": [],
   "source": [
    "import csv"
   ]
  },
  {
   "cell_type": "code",
   "execution_count": 164,
   "metadata": {},
   "outputs": [],
   "source": [
    "csvFile = open('dataset/dataset_clean_labelled.csv', 'a')\n",
    "\n",
    "csvWriter = csv.writer(csvFile)"
   ]
  },
  {
   "cell_type": "code",
   "execution_count": 41,
   "metadata": {},
   "outputs": [],
   "source": [
    "def AddtoDataset(tweet, sentiment, dataset=\"dataset_clean_labelled.csv\"):\n",
    "    with open('dataset/'+dataset,'a',newline='') as f:\n",
    "        writer=csv.writer(f)\n",
    "        writer.writerow([CleaningTweet(tweet),sentiment])\n",
    "        r = True\n",
    "    \n",
    "    return r"
   ]
  },
  {
   "cell_type": "code",
   "execution_count": 43,
   "metadata": {},
   "outputs": [],
   "source": [
    "import csv"
   ]
  },
  {
   "cell_type": "code",
   "execution_count": 4,
   "metadata": {},
   "outputs": [],
   "source": [
    "def stem(text):\n",
    "    sent = []\n",
    "    words = text.split(\" \")\n",
    "    for w in words:\n",
    "        if w != \"\":\n",
    "            sent.append(stemmer.stem(w))\n",
    "    if len(sent) != 0:\n",
    "        return \" \".join(sent)"
   ]
  },
  {
   "cell_type": "code",
   "execution_count": 2,
   "metadata": {},
   "outputs": [],
   "source": [
    "x = pd.read_csv('dataset/dataset_clean_labelled.csv')"
   ]
  },
  {
   "cell_type": "code",
   "execution_count": 5,
   "metadata": {},
   "outputs": [],
   "source": [
    "x['TWEET'] = x['TWEET'].apply(stem)"
   ]
  },
  {
   "cell_type": "code",
   "execution_count": 6,
   "metadata": {},
   "outputs": [],
   "source": [
    "x.to_csv ('dataset/dataset_clean_labelled_.csv', index=False)"
   ]
  },
  {
   "cell_type": "code",
   "execution_count": null,
   "metadata": {},
   "outputs": [],
   "source": []
  }
 ],
 "metadata": {
  "kernelspec": {
   "display_name": "Python 3",
   "language": "python",
   "name": "python3"
  },
  "language_info": {
   "codemirror_mode": {
    "name": "ipython",
    "version": 3
   },
   "file_extension": ".py",
   "mimetype": "text/x-python",
   "name": "python",
   "nbconvert_exporter": "python",
   "pygments_lexer": "ipython3",
   "version": "3.7.3"
  }
 },
 "nbformat": 4,
 "nbformat_minor": 2
}
